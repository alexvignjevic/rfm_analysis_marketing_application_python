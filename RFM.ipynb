{
 "cells": [
  {
   "cell_type": "code",
   "execution_count": 1,
   "id": "2e4ccd5b",
   "metadata": {},
   "outputs": [],
   "source": [
    "import pandas as pd\n",
    "\n",
    "import numpy as np\n",
    "\n",
    "import seaborn as sns\n",
    "\n",
    "from matplotlib import pyplot as plt"
   ]
  },
  {
   "cell_type": "code",
   "execution_count": 2,
   "id": "a4f01e1c",
   "metadata": {},
   "outputs": [],
   "source": [
    "# import dataset\n",
    "df=pd.read_excel(\"C:/Users/avignjevic/OneDrive - TeleSign Corporation/Desktop/Practice/Online Retail.xlsx\")"
   ]
  },
  {
   "cell_type": "markdown",
   "id": "3166b480",
   "metadata": {},
   "source": [
    "## Data Cleaning"
   ]
  },
  {
   "cell_type": "code",
   "execution_count": 3,
   "id": "e385ef0a",
   "metadata": {},
   "outputs": [
    {
     "data": {
      "text/html": [
       "<div>\n",
       "<style scoped>\n",
       "    .dataframe tbody tr th:only-of-type {\n",
       "        vertical-align: middle;\n",
       "    }\n",
       "\n",
       "    .dataframe tbody tr th {\n",
       "        vertical-align: top;\n",
       "    }\n",
       "\n",
       "    .dataframe thead th {\n",
       "        text-align: right;\n",
       "    }\n",
       "</style>\n",
       "<table border=\"1\" class=\"dataframe\">\n",
       "  <thead>\n",
       "    <tr style=\"text-align: right;\">\n",
       "      <th></th>\n",
       "      <th>InvoiceNo</th>\n",
       "      <th>StockCode</th>\n",
       "      <th>Description</th>\n",
       "      <th>Quantity</th>\n",
       "      <th>InvoiceDate</th>\n",
       "      <th>UnitPrice</th>\n",
       "      <th>CustomerID</th>\n",
       "      <th>Country</th>\n",
       "    </tr>\n",
       "  </thead>\n",
       "  <tbody>\n",
       "    <tr>\n",
       "      <th>0</th>\n",
       "      <td>536365</td>\n",
       "      <td>85123A</td>\n",
       "      <td>WHITE HANGING HEART T-LIGHT HOLDER</td>\n",
       "      <td>6</td>\n",
       "      <td>2010-12-01 08:26:00</td>\n",
       "      <td>2.55</td>\n",
       "      <td>17850.0</td>\n",
       "      <td>United Kingdom</td>\n",
       "    </tr>\n",
       "    <tr>\n",
       "      <th>1</th>\n",
       "      <td>536365</td>\n",
       "      <td>71053</td>\n",
       "      <td>WHITE METAL LANTERN</td>\n",
       "      <td>6</td>\n",
       "      <td>2010-12-01 08:26:00</td>\n",
       "      <td>3.39</td>\n",
       "      <td>17850.0</td>\n",
       "      <td>United Kingdom</td>\n",
       "    </tr>\n",
       "    <tr>\n",
       "      <th>2</th>\n",
       "      <td>536365</td>\n",
       "      <td>84406B</td>\n",
       "      <td>CREAM CUPID HEARTS COAT HANGER</td>\n",
       "      <td>8</td>\n",
       "      <td>2010-12-01 08:26:00</td>\n",
       "      <td>2.75</td>\n",
       "      <td>17850.0</td>\n",
       "      <td>United Kingdom</td>\n",
       "    </tr>\n",
       "    <tr>\n",
       "      <th>3</th>\n",
       "      <td>536365</td>\n",
       "      <td>84029G</td>\n",
       "      <td>KNITTED UNION FLAG HOT WATER BOTTLE</td>\n",
       "      <td>6</td>\n",
       "      <td>2010-12-01 08:26:00</td>\n",
       "      <td>3.39</td>\n",
       "      <td>17850.0</td>\n",
       "      <td>United Kingdom</td>\n",
       "    </tr>\n",
       "    <tr>\n",
       "      <th>4</th>\n",
       "      <td>536365</td>\n",
       "      <td>84029E</td>\n",
       "      <td>RED WOOLLY HOTTIE WHITE HEART.</td>\n",
       "      <td>6</td>\n",
       "      <td>2010-12-01 08:26:00</td>\n",
       "      <td>3.39</td>\n",
       "      <td>17850.0</td>\n",
       "      <td>United Kingdom</td>\n",
       "    </tr>\n",
       "  </tbody>\n",
       "</table>\n",
       "</div>"
      ],
      "text/plain": [
       "  InvoiceNo StockCode                          Description  Quantity  \\\n",
       "0    536365    85123A   WHITE HANGING HEART T-LIGHT HOLDER         6   \n",
       "1    536365     71053                  WHITE METAL LANTERN         6   \n",
       "2    536365    84406B       CREAM CUPID HEARTS COAT HANGER         8   \n",
       "3    536365    84029G  KNITTED UNION FLAG HOT WATER BOTTLE         6   \n",
       "4    536365    84029E       RED WOOLLY HOTTIE WHITE HEART.         6   \n",
       "\n",
       "          InvoiceDate  UnitPrice  CustomerID         Country  \n",
       "0 2010-12-01 08:26:00       2.55     17850.0  United Kingdom  \n",
       "1 2010-12-01 08:26:00       3.39     17850.0  United Kingdom  \n",
       "2 2010-12-01 08:26:00       2.75     17850.0  United Kingdom  \n",
       "3 2010-12-01 08:26:00       3.39     17850.0  United Kingdom  \n",
       "4 2010-12-01 08:26:00       3.39     17850.0  United Kingdom  "
      ]
     },
     "execution_count": 3,
     "metadata": {},
     "output_type": "execute_result"
    }
   ],
   "source": [
    "# Let's first look at the columns that are in the dataset\n",
    "df.head()"
   ]
  },
  {
   "cell_type": "code",
   "execution_count": 4,
   "id": "501848ab",
   "metadata": {},
   "outputs": [
    {
     "data": {
      "image/png": "[encoded data removed]",
      "text/plain": [
       "<Figure size 432x288 with 1 Axes>"
      ]
     },
     "metadata": {
      "needs_background": "light"
     },
     "output_type": "display_data"
    }
   ],
   "source": [
    "# Eliminate unnecessary columns\n",
    "\n",
    "# Stock Code, Description (Product) are not neccessary for further analysis . The goal is not to segment customers\n",
    "# based on geolocation either, so country will be eliminated from further analysis.\n",
    "#Also UK is disproportionately represented in the dataset\n",
    "\n",
    "country_count=df[\"Country\"].value_counts().reset_index(name=\"count\")\n",
    "\n",
    "country_count.rename(columns={\"index\":\"Country\"},inplace=True)\n",
    "\n",
    "p=sns.barplot(data=country_count,x=\"Country\",y=\"count\")\n",
    "\n",
    "p.tick_params(axis='x', rotation=90);"
   ]
  },
  {
   "cell_type": "code",
   "execution_count": 5,
   "id": "f2b517ef",
   "metadata": {},
   "outputs": [],
   "source": [
    "# Filter to include only relevant columns\n",
    "\n",
    "df1=df[[\"InvoiceNo\",\"Quantity\",\"InvoiceDate\",\"UnitPrice\",\"CustomerID\"]]"
   ]
  },
  {
   "cell_type": "code",
   "execution_count": 6,
   "id": "97fcea37",
   "metadata": {},
   "outputs": [
    {
     "data": {
      "text/plain": [
       "InvoiceNo           0\n",
       "Quantity            0\n",
       "InvoiceDate         0\n",
       "UnitPrice           0\n",
       "CustomerID     135080\n",
       "dtype: int64"
      ]
     },
     "execution_count": 6,
     "metadata": {},
     "output_type": "execute_result"
    }
   ],
   "source": [
    "# Let's check for NaN values\n",
    "df1.isna().sum()"
   ]
  },
  {
   "cell_type": "code",
   "execution_count": 7,
   "id": "e530f750",
   "metadata": {},
   "outputs": [],
   "source": [
    "# Without CustomerID we can't calculate recency, frequency and monetary features, therefore these rows will be dropped\n",
    "\n",
    "df1=df1.dropna()"
   ]
  },
  {
   "cell_type": "code",
   "execution_count": 8,
   "id": "b5ca628f",
   "metadata": {},
   "outputs": [
    {
     "data": {
      "text/plain": [
       "InvoiceNo              object\n",
       "Quantity                int64\n",
       "InvoiceDate    datetime64[ns]\n",
       "UnitPrice             float64\n",
       "CustomerID            float64\n",
       "dtype: object"
      ]
     },
     "execution_count": 8,
     "metadata": {},
     "output_type": "execute_result"
    }
   ],
   "source": [
    "# Let's take a glance at datatypes\n",
    "df1.dtypes"
   ]
  },
  {
   "cell_type": "code",
   "execution_count": 9,
   "id": "6d6a4ee6",
   "metadata": {},
   "outputs": [],
   "source": [
    "# CustomerID should be converted to object\n",
    "\n",
    "df1[\"CustomerID\"]=df1[\"CustomerID\"].astype(str)"
   ]
  },
  {
   "cell_type": "code",
   "execution_count": 10,
   "id": "01662f42",
   "metadata": {},
   "outputs": [
    {
     "data": {
      "text/html": [
       "<div>\n",
       "<style scoped>\n",
       "    .dataframe tbody tr th:only-of-type {\n",
       "        vertical-align: middle;\n",
       "    }\n",
       "\n",
       "    .dataframe tbody tr th {\n",
       "        vertical-align: top;\n",
       "    }\n",
       "\n",
       "    .dataframe thead th {\n",
       "        text-align: right;\n",
       "    }\n",
       "</style>\n",
       "<table border=\"1\" class=\"dataframe\">\n",
       "  <thead>\n",
       "    <tr style=\"text-align: right;\">\n",
       "      <th></th>\n",
       "      <th>Quantity</th>\n",
       "      <th>UnitPrice</th>\n",
       "    </tr>\n",
       "  </thead>\n",
       "  <tbody>\n",
       "    <tr>\n",
       "      <th>count</th>\n",
       "      <td>406829.000000</td>\n",
       "      <td>406829.000000</td>\n",
       "    </tr>\n",
       "    <tr>\n",
       "      <th>mean</th>\n",
       "      <td>12.061303</td>\n",
       "      <td>3.460471</td>\n",
       "    </tr>\n",
       "    <tr>\n",
       "      <th>std</th>\n",
       "      <td>248.693370</td>\n",
       "      <td>69.315162</td>\n",
       "    </tr>\n",
       "    <tr>\n",
       "      <th>min</th>\n",
       "      <td>-80995.000000</td>\n",
       "      <td>0.000000</td>\n",
       "    </tr>\n",
       "    <tr>\n",
       "      <th>25%</th>\n",
       "      <td>2.000000</td>\n",
       "      <td>1.250000</td>\n",
       "    </tr>\n",
       "    <tr>\n",
       "      <th>50%</th>\n",
       "      <td>5.000000</td>\n",
       "      <td>1.950000</td>\n",
       "    </tr>\n",
       "    <tr>\n",
       "      <th>75%</th>\n",
       "      <td>12.000000</td>\n",
       "      <td>3.750000</td>\n",
       "    </tr>\n",
       "    <tr>\n",
       "      <th>max</th>\n",
       "      <td>80995.000000</td>\n",
       "      <td>38970.000000</td>\n",
       "    </tr>\n",
       "  </tbody>\n",
       "</table>\n",
       "</div>"
      ],
      "text/plain": [
       "            Quantity      UnitPrice\n",
       "count  406829.000000  406829.000000\n",
       "mean       12.061303       3.460471\n",
       "std       248.693370      69.315162\n",
       "min    -80995.000000       0.000000\n",
       "25%         2.000000       1.250000\n",
       "50%         5.000000       1.950000\n",
       "75%        12.000000       3.750000\n",
       "max     80995.000000   38970.000000"
      ]
     },
     "execution_count": 10,
     "metadata": {},
     "output_type": "execute_result"
    }
   ],
   "source": [
    "# Take a glance at describe method\n",
    "\n",
    "df1.describe()\n",
    "\n",
    "# From describe we can see that quantity and price have negative values so I filter these out\n"
   ]
  },
  {
   "cell_type": "code",
   "execution_count": 11,
   "id": "bb546cfb",
   "metadata": {},
   "outputs": [],
   "source": [
    "df1=df1[df1[\"UnitPrice\"]>0]\n",
    "df1=df1[df1[\"Quantity\"]>0]"
   ]
  },
  {
   "cell_type": "markdown",
   "id": "72b92ab9",
   "metadata": {},
   "source": [
    "## Recency"
   ]
  },
  {
   "cell_type": "code",
   "execution_count": 12,
   "id": "faf12296",
   "metadata": {},
   "outputs": [],
   "source": [
    "# I will calculate recency as the difference in days between the maximum date of the dataset and most recent customer's purchase\n",
    "#First let's extract year,month,day from date and assign that to new column Date\n",
    "df1[\"Date\"] = df1[\"InvoiceDate\"].dt.strftime('%Y-%m-%d')\n",
    "df1[\"Date\"]=pd.to_datetime(df1[\"Date\"])"
   ]
  },
  {
   "cell_type": "code",
   "execution_count": 13,
   "id": "d627353b",
   "metadata": {},
   "outputs": [],
   "source": [
    "# find max date\n",
    "max_date=df1[\"Date\"].max()\n",
    "max_date=pd.to_datetime(max_date)"
   ]
  },
  {
   "cell_type": "code",
   "execution_count": 14,
   "id": "58a39749",
   "metadata": {},
   "outputs": [],
   "source": [
    "# calculate recency and save relevant columns\n",
    "df2=df1.groupby(\"CustomerID\")[\"Date\"].max().reset_index()\n",
    "df2[\"MaxDate\"]=max_date\n",
    "df2[\"Recency\"]=df2[\"MaxDate\"]-df2[\"Date\"]\n",
    "df2[\"Recency\"]=df2[\"Recency\"].dt.days\n",
    "df2=df2[[\"CustomerID\",\"Recency\"]]"
   ]
  },
  {
   "cell_type": "markdown",
   "id": "1704d051",
   "metadata": {},
   "source": [
    "## Frequency"
   ]
  },
  {
   "cell_type": "code",
   "execution_count": 15,
   "id": "b481b5a4",
   "metadata": {},
   "outputs": [],
   "source": [
    "# Frequency will be calculated as the number of unique invoice numbers each customer ID is associated with\n",
    "df3=df1.groupby(\"CustomerID\")[\"InvoiceNo\"].nunique().reset_index()\n",
    "df3.rename(columns={\"InvoiceNo\":\"Frequency\"},inplace=True)"
   ]
  },
  {
   "cell_type": "markdown",
   "id": "163fa85b",
   "metadata": {},
   "source": [
    "## Monetary"
   ]
  },
  {
   "cell_type": "code",
   "execution_count": 16,
   "id": "37c53f42",
   "metadata": {},
   "outputs": [],
   "source": [
    "# Monetary is the money spent by each customer\n",
    "df1[\"Monetary\"]=df1[\"UnitPrice\"]*df1[\"Quantity\"]\n",
    "df4=df1.groupby(\"CustomerID\")[\"Monetary\"].sum().reset_index()"
   ]
  },
  {
   "cell_type": "markdown",
   "id": "8c5afcbe",
   "metadata": {},
   "source": [
    "## RFM Table"
   ]
  },
  {
   "cell_type": "code",
   "execution_count": 17,
   "id": "5b7592ed",
   "metadata": {},
   "outputs": [],
   "source": [
    "# Finally combine df2,df3,df4 to get RFM table\n",
    "df_rfm=pd.merge(df2,df3,on=\"CustomerID\")"
   ]
  },
  {
   "cell_type": "code",
   "execution_count": 18,
   "id": "72e1ea66",
   "metadata": {},
   "outputs": [],
   "source": [
    "df_rfm=pd.merge(df_rfm,df4,on=\"CustomerID\")"
   ]
  },
  {
   "cell_type": "markdown",
   "id": "6d7c94a9",
   "metadata": {},
   "source": [
    "#### Divide recency,monetary, frequency into quantlies of similar size"
   ]
  },
  {
   "cell_type": "code",
   "execution_count": 19,
   "id": "67d01865",
   "metadata": {},
   "outputs": [
    {
     "data": {
      "text/plain": [
       "0.34    25.0\n",
       "0.67    92.0\n",
       "Name: Recency, dtype: float64"
      ]
     },
     "execution_count": 19,
     "metadata": {},
     "output_type": "execute_result"
    }
   ],
   "source": [
    "# Find quantiles for each variable\n",
    "df_rfm[\"Recency\"].quantile([0.34,0.67])"
   ]
  },
  {
   "cell_type": "code",
   "execution_count": 20,
   "id": "febdd5bc",
   "metadata": {},
   "outputs": [
    {
     "data": {
      "text/plain": [
       "0.34    1.0\n",
       "0.67    4.0\n",
       "Name: Frequency, dtype: float64"
      ]
     },
     "execution_count": 20,
     "metadata": {},
     "output_type": "execute_result"
    }
   ],
   "source": [
    "df_rfm[\"Frequency\"].quantile([0.34,0.67])"
   ]
  },
  {
   "cell_type": "code",
   "execution_count": 21,
   "id": "d92e957b",
   "metadata": {},
   "outputs": [
    {
     "data": {
      "text/plain": [
       "0.34     397.3248\n",
       "0.67    1215.5890\n",
       "Name: Monetary, dtype: float64"
      ]
     },
     "execution_count": 21,
     "metadata": {},
     "output_type": "execute_result"
    }
   ],
   "source": [
    "df_rfm[\"Monetary\"].quantile([0.34,0.67])"
   ]
  },
  {
   "cell_type": "code",
   "execution_count": 22,
   "id": "a11eca03",
   "metadata": {},
   "outputs": [],
   "source": [
    "# Divide data based on quantiles\n",
    "df_rfm[\"r_quartile\"]=np.where(df_rfm[\"Recency\"]<=25,3,np.where(df_rfm[\"Recency\"]<=92,2,1))\n",
    "df_rfm[\"f_quartile\"]=np.where(df_rfm[\"Frequency\"]<=1,1,np.where(df_rfm[\"Frequency\"]<=4,2,3))\n",
    "df_rfm[\"m_quartile\"]=np.where(df_rfm[\"Monetary\"]<=397,1,np.where(df_rfm[\"Monetary\"]<=1215,2,3))"
   ]
  },
  {
   "cell_type": "code",
   "execution_count": 23,
   "id": "0bf0ef84",
   "metadata": {},
   "outputs": [],
   "source": [
    "# Combine r_quartile, f_quartile and m_quartile to get an overall rfm\n",
    "df_rfm[\"rfm_score\"]=df_rfm[\"r_quartile\"].astype(str)+df_rfm[\"f_quartile\"].astype(str)+df_rfm[\"m_quartile\"].astype(str)\n",
    "df_rfm[\"rfm_score\"]=df_rfm[\"rfm_score\"].astype(int)"
   ]
  },
  {
   "cell_type": "code",
   "execution_count": 24,
   "id": "2a517ca6",
   "metadata": {},
   "outputs": [
    {
     "data": {
      "text/html": [
       "<div>\n",
       "<style scoped>\n",
       "    .dataframe tbody tr th:only-of-type {\n",
       "        vertical-align: middle;\n",
       "    }\n",
       "\n",
       "    .dataframe tbody tr th {\n",
       "        vertical-align: top;\n",
       "    }\n",
       "\n",
       "    .dataframe thead th {\n",
       "        text-align: right;\n",
       "    }\n",
       "</style>\n",
       "<table border=\"1\" class=\"dataframe\">\n",
       "  <thead>\n",
       "    <tr style=\"text-align: right;\">\n",
       "      <th></th>\n",
       "      <th>CustomerID</th>\n",
       "      <th>Recency</th>\n",
       "      <th>Frequency</th>\n",
       "      <th>Monetary</th>\n",
       "      <th>r_quartile</th>\n",
       "      <th>f_quartile</th>\n",
       "      <th>m_quartile</th>\n",
       "      <th>rfm_score</th>\n",
       "    </tr>\n",
       "  </thead>\n",
       "  <tbody>\n",
       "    <tr>\n",
       "      <th>0</th>\n",
       "      <td>12346.0</td>\n",
       "      <td>325</td>\n",
       "      <td>1</td>\n",
       "      <td>77183.60</td>\n",
       "      <td>1</td>\n",
       "      <td>1</td>\n",
       "      <td>3</td>\n",
       "      <td>113</td>\n",
       "    </tr>\n",
       "    <tr>\n",
       "      <th>1</th>\n",
       "      <td>12347.0</td>\n",
       "      <td>2</td>\n",
       "      <td>7</td>\n",
       "      <td>4310.00</td>\n",
       "      <td>3</td>\n",
       "      <td>3</td>\n",
       "      <td>3</td>\n",
       "      <td>333</td>\n",
       "    </tr>\n",
       "    <tr>\n",
       "      <th>2</th>\n",
       "      <td>12348.0</td>\n",
       "      <td>75</td>\n",
       "      <td>4</td>\n",
       "      <td>1797.24</td>\n",
       "      <td>2</td>\n",
       "      <td>2</td>\n",
       "      <td>3</td>\n",
       "      <td>223</td>\n",
       "    </tr>\n",
       "    <tr>\n",
       "      <th>3</th>\n",
       "      <td>12349.0</td>\n",
       "      <td>18</td>\n",
       "      <td>1</td>\n",
       "      <td>1757.55</td>\n",
       "      <td>3</td>\n",
       "      <td>1</td>\n",
       "      <td>3</td>\n",
       "      <td>313</td>\n",
       "    </tr>\n",
       "    <tr>\n",
       "      <th>4</th>\n",
       "      <td>12350.0</td>\n",
       "      <td>310</td>\n",
       "      <td>1</td>\n",
       "      <td>334.40</td>\n",
       "      <td>1</td>\n",
       "      <td>1</td>\n",
       "      <td>1</td>\n",
       "      <td>111</td>\n",
       "    </tr>\n",
       "    <tr>\n",
       "      <th>...</th>\n",
       "      <td>...</td>\n",
       "      <td>...</td>\n",
       "      <td>...</td>\n",
       "      <td>...</td>\n",
       "      <td>...</td>\n",
       "      <td>...</td>\n",
       "      <td>...</td>\n",
       "      <td>...</td>\n",
       "    </tr>\n",
       "    <tr>\n",
       "      <th>4333</th>\n",
       "      <td>18280.0</td>\n",
       "      <td>277</td>\n",
       "      <td>1</td>\n",
       "      <td>180.60</td>\n",
       "      <td>1</td>\n",
       "      <td>1</td>\n",
       "      <td>1</td>\n",
       "      <td>111</td>\n",
       "    </tr>\n",
       "    <tr>\n",
       "      <th>4334</th>\n",
       "      <td>18281.0</td>\n",
       "      <td>180</td>\n",
       "      <td>1</td>\n",
       "      <td>80.82</td>\n",
       "      <td>1</td>\n",
       "      <td>1</td>\n",
       "      <td>1</td>\n",
       "      <td>111</td>\n",
       "    </tr>\n",
       "    <tr>\n",
       "      <th>4335</th>\n",
       "      <td>18282.0</td>\n",
       "      <td>7</td>\n",
       "      <td>2</td>\n",
       "      <td>178.05</td>\n",
       "      <td>3</td>\n",
       "      <td>2</td>\n",
       "      <td>1</td>\n",
       "      <td>321</td>\n",
       "    </tr>\n",
       "    <tr>\n",
       "      <th>4336</th>\n",
       "      <td>18283.0</td>\n",
       "      <td>3</td>\n",
       "      <td>16</td>\n",
       "      <td>2094.88</td>\n",
       "      <td>3</td>\n",
       "      <td>3</td>\n",
       "      <td>3</td>\n",
       "      <td>333</td>\n",
       "    </tr>\n",
       "    <tr>\n",
       "      <th>4337</th>\n",
       "      <td>18287.0</td>\n",
       "      <td>42</td>\n",
       "      <td>3</td>\n",
       "      <td>1837.28</td>\n",
       "      <td>2</td>\n",
       "      <td>2</td>\n",
       "      <td>3</td>\n",
       "      <td>223</td>\n",
       "    </tr>\n",
       "  </tbody>\n",
       "</table>\n",
       "<p>4338 rows × 8 columns</p>\n",
       "</div>"
      ],
      "text/plain": [
       "     CustomerID  Recency  Frequency  Monetary  r_quartile  f_quartile  \\\n",
       "0       12346.0      325          1  77183.60           1           1   \n",
       "1       12347.0        2          7   4310.00           3           3   \n",
       "2       12348.0       75          4   1797.24           2           2   \n",
       "3       12349.0       18          1   1757.55           3           1   \n",
       "4       12350.0      310          1    334.40           1           1   \n",
       "...         ...      ...        ...       ...         ...         ...   \n",
       "4333    18280.0      277          1    180.60           1           1   \n",
       "4334    18281.0      180          1     80.82           1           1   \n",
       "4335    18282.0        7          2    178.05           3           2   \n",
       "4336    18283.0        3         16   2094.88           3           3   \n",
       "4337    18287.0       42          3   1837.28           2           2   \n",
       "\n",
       "      m_quartile  rfm_score  \n",
       "0              3        113  \n",
       "1              3        333  \n",
       "2              3        223  \n",
       "3              3        313  \n",
       "4              1        111  \n",
       "...          ...        ...  \n",
       "4333           1        111  \n",
       "4334           1        111  \n",
       "4335           1        321  \n",
       "4336           3        333  \n",
       "4337           3        223  \n",
       "\n",
       "[4338 rows x 8 columns]"
      ]
     },
     "execution_count": 24,
     "metadata": {},
     "output_type": "execute_result"
    }
   ],
   "source": [
    "df_rfm"
   ]
  },
  {
   "cell_type": "code",
   "execution_count": 25,
   "id": "2e4ceb81",
   "metadata": {},
   "outputs": [
    {
     "data": {
      "image/png": "[encoded data removed]",
      "text/plain": [
       "<Figure size 432x288 with 1 Axes>"
      ]
     },
     "metadata": {
      "needs_background": "light"
     },
     "output_type": "display_data"
    }
   ],
   "source": [
    "rfm=df_rfm[\"rfm_score\"].value_counts().reset_index()\n",
    "rfm.rename(columns={\"index\":\"rfm_score\",\n",
    "                      \"rfm_score\":\"count\"},inplace=True)\n",
    "p=sns.barplot(data=rfm,x=\"rfm_score\",y=\"count\")\n",
    "\n",
    "p.tick_params(axis='x', rotation=90);"
   ]
  },
  {
   "cell_type": "code",
   "execution_count": 26,
   "id": "d82ec39e",
   "metadata": {},
   "outputs": [],
   "source": [
    "df_rfm[\"Category\"]=\"Other\"\n",
    "df_rfm[\"Category\"]=np.where((df_rfm[\"rfm_score\"]==333) | (df_rfm[\"rfm_score\"]==233),\"Champions\",df_rfm[\"Category\"])\n",
    "df_rfm[\"Category\"]=np.where((df_rfm[\"rfm_score\"]==332) | (df_rfm[\"rfm_score\"]==331),\"Loyalists\",df_rfm[\"Category\"])\n",
    "df_rfm[\"Category\"]=np.where((df_rfm[\"rfm_score\"]==323) | (df_rfm[\"rfm_score\"]==322),\"Potential Loyalists\",df_rfm[\"Category\"])\n",
    "df_rfm[\"Category\"]=np.where((df_rfm[\"rfm_score\"]==312) | (df_rfm[\"rfm_score\"]==311) | (df_rfm[\"rfm_score\"]==313) ,\"New Customers\",df_rfm[\"Category\"])\n",
    "df_rfm[\"Category\"]=np.where((df_rfm[\"rfm_score\"]==122) | (df_rfm[\"rfm_score\"]==123) | (df_rfm[\"rfm_score\"]==132) | (df_rfm[\"rfm_score\"]==133) ,\"At Risk Customers\",df_rfm[\"Category\"])\n",
    "df_rfm[\"Category\"]=np.where((df_rfm[\"rfm_score\"]==112) | (df_rfm[\"rfm_score\"]==111) | (df_rfm[\"rfm_score\"]==113),\"Hibernating\",df_rfm[\"Category\"])\n",
    "df_rfm[\"Category\"]=np.where((df_rfm[\"rfm_score\"]==222) | (df_rfm[\"rfm_score\"]==221),\"Promising\",df_rfm[\"Category\"])"
   ]
  },
  {
   "cell_type": "code",
   "execution_count": 27,
   "id": "49e2081c",
   "metadata": {},
   "outputs": [
    {
     "data": {
      "text/html": [
       "<div>\n",
       "<style scoped>\n",
       "    .dataframe tbody tr th:only-of-type {\n",
       "        vertical-align: middle;\n",
       "    }\n",
       "\n",
       "    .dataframe tbody tr th {\n",
       "        vertical-align: top;\n",
       "    }\n",
       "\n",
       "    .dataframe thead th {\n",
       "        text-align: right;\n",
       "    }\n",
       "</style>\n",
       "<table border=\"1\" class=\"dataframe\">\n",
       "  <thead>\n",
       "    <tr style=\"text-align: right;\">\n",
       "      <th></th>\n",
       "      <th>Category</th>\n",
       "      <th>Category</th>\n",
       "    </tr>\n",
       "  </thead>\n",
       "  <tbody>\n",
       "    <tr>\n",
       "      <th>0</th>\n",
       "      <td>Other</td>\n",
       "      <td>0.22</td>\n",
       "    </tr>\n",
       "    <tr>\n",
       "      <th>1</th>\n",
       "      <td>Champions</td>\n",
       "      <td>0.21</td>\n",
       "    </tr>\n",
       "    <tr>\n",
       "      <th>2</th>\n",
       "      <td>Hibernating</td>\n",
       "      <td>0.19</td>\n",
       "    </tr>\n",
       "    <tr>\n",
       "      <th>3</th>\n",
       "      <td>Promising</td>\n",
       "      <td>0.11</td>\n",
       "    </tr>\n",
       "    <tr>\n",
       "      <th>4</th>\n",
       "      <td>Potential Loyalists</td>\n",
       "      <td>0.11</td>\n",
       "    </tr>\n",
       "    <tr>\n",
       "      <th>5</th>\n",
       "      <td>At Risk Customers</td>\n",
       "      <td>0.10</td>\n",
       "    </tr>\n",
       "    <tr>\n",
       "      <th>6</th>\n",
       "      <td>New Customers</td>\n",
       "      <td>0.04</td>\n",
       "    </tr>\n",
       "    <tr>\n",
       "      <th>7</th>\n",
       "      <td>Loyalists</td>\n",
       "      <td>0.02</td>\n",
       "    </tr>\n",
       "  </tbody>\n",
       "</table>\n",
       "</div>"
      ],
      "text/plain": [
       "              Category  Category\n",
       "0                Other      0.22\n",
       "1            Champions      0.21\n",
       "2          Hibernating      0.19\n",
       "3            Promising      0.11\n",
       "4  Potential Loyalists      0.11\n",
       "5    At Risk Customers      0.10\n",
       "6        New Customers      0.04\n",
       "7            Loyalists      0.02"
      ]
     },
     "execution_count": 27,
     "metadata": {},
     "output_type": "execute_result"
    }
   ],
   "source": [
    "category=df_rfm[\"Category\"].value_counts(normalize=True).round(2).reset_index()\n",
    "category.rename(columns=({\"index\":\"Category\"}),inplace=True)\n",
    "category"
   ]
  },
  {
   "cell_type": "markdown",
   "id": "b21bfba4",
   "metadata": {},
   "source": [
    "### Champions are customer who buy often, have bought recently and are heavy spenders. This category of customers should be rewarded.\n",
    "\n",
    "### Potential Loyalists are recent customers with average frequency and who spent a good amount. These customers should be offered loyalty programs or membership, or should be recommended related products to help them become Loyalists.\n",
    "\n",
    "### New Customers are those who have bought recently but are not frequent shoppers. These customers should be offered special offers to increase their visits.\n",
    "\n",
    "### At Risk Customers are those who used to buy frequently but have not been seen for a while. They should be targeted with reactivation campaigns or offered renewals.\n",
    "\n",
    "### Promising customers are one step below Potential Loyalists. These customers are average in terms of frequency and recency. They should be sent promotions to increase their recency and frequency.\n",
    "\n",
    "### Hibernating are those customers who did not buy recently, were not frequent and have not spent a good amount. There is probably no reason to target these customers with any campaigns.\n",
    "\n",
    "## Reference\n",
    "\n",
    "## https://clevertap.com/blog/rfm-analysis/\n",
    "\n"
   ]
  }
 ],
 "metadata": {
  "kernelspec": {
   "display_name": "Python 3",
   "language": "python",
   "name": "python3"
  },
  "language_info": {
   "codemirror_mode": {
    "name": "ipython",
    "version": 3
   },
   "file_extension": ".py",
   "mimetype": "text/x-python",
   "name": "python",
   "nbconvert_exporter": "python",
   "pygments_lexer": "ipython3",
   "version": "3.8.8"
  }
 },
 "nbformat": 4,
 "nbformat_minor": 5
}
